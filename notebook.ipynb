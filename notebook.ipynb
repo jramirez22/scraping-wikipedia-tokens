{
 "cells": [
  {
   "cell_type": "code",
   "execution_count": 1,
   "id": "7446ee52",
   "metadata": {},
   "outputs": [],
   "source": [
    "import re\n",
    "import json\n",
    "import unicodedata\n",
    "import nltk\n",
    "\n",
    "from nltk.stem.snowball import SnowballStemmer"
   ]
  },
  {
   "cell_type": "code",
   "execution_count": 2,
   "id": "0498169a",
   "metadata": {},
   "outputs": [],
   "source": [
    "def json_cleaner(data, words):\n",
    "    tuple = data[\"text\"]\n",
    "\n",
    "    no_corchete = re.sub(r'\\[(.*?)\\]', ' ', tuple)\n",
    "    no_css = unicodedata.normalize(\"NFKD\", no_corchete)\n",
    "    no_unicode = re.sub(r'\\\\u(.){4}', ' ', no_css)\n",
    "    no_newline = no_unicode.replace('\\n', ' ')\n",
    "    no_punctuation = re.sub(r'[,:.()]', ' ', no_newline)\n",
    "    no_alphanumeric = re.sub(r'[^a-zA-Z0-9-\\W]', ' ', no_punctuation)\n",
    "    lower_case = no_alphanumeric.lower()\n",
    "\n",
    "    split = re.split('\\W+', lower_case)\n",
    "    words.extend(split)\n",
    "    return"
   ]
  },
  {
   "cell_type": "code",
   "execution_count": 3,
   "id": "c13c9cc0",
   "metadata": {},
   "outputs": [],
   "source": [
    "def vocab_fix(words_list, vocab, snow_stemmer):\n",
    "\n",
    "    for w in words_list:\n",
    "        word = snow_stemmer.stem(w)\n",
    "        if word not in vocab:\n",
    "            vocab[word] = 1\n",
    "        else:\n",
    "            vocab[word] += 1\n",
    "\n",
    "    return"
   ]
  },
  {
   "cell_type": "code",
   "execution_count": 4,
   "id": "c9bd2a03",
   "metadata": {},
   "outputs": [],
   "source": [
    "def iteration_vocab(list_limit, snow_stemmer, sts_word, sts_vocab):\n",
    "    #Por cada una de los limites que se hayan solicitado\n",
    "    for i in list_limit:\n",
    "        print(\"limite: \", i)\n",
    "        # Crear la lista de palabras completas\n",
    "        words = []\n",
    "        # Crear el diccionario de vocabulario\n",
    "        vocab = {}\n",
    "\n",
    "        index = 0\n",
    "        # Se llenara la lista de words acorde al limite seleccionado\n",
    "        while len(words) < i:\n",
    "            json_cleaner(data[index], words)\n",
    "            if len(words) > i:\n",
    "                words = words[:i]\n",
    "\n",
    "            index += 1\n",
    "\n",
    "        vocab_fix(words, vocab, snow_stemmer)\n",
    "\n",
    "\n",
    "        sts_word.append(len(words))\n",
    "        sts_vocab.append(len(vocab))"
   ]
  },
  {
   "cell_type": "code",
   "execution_count": 5,
   "id": "5b2bce12",
   "metadata": {},
   "outputs": [
    {
     "name": "stdout",
     "output_type": "stream",
     "text": [
      "limite:  100\n",
      "limite:  300\n",
      "limite:  1000\n",
      "limite:  4500\n",
      "limite:  10000\n",
      "limite:  69696\n",
      "limite:  100000\n",
      "limite:  143590\n",
      "limite:  853641\n",
      "limite:  1000000\n",
      "[100, 300, 1000, 4500, 10000, 69696, 100000, 143590, 853641, 1000000]\n",
      "[62, 168, 395, 1281, 2406, 8829, 11242, 13466, 30529, 32987]\n",
      "[0.62, 0.56, 0.395, 0.2846666666666667, 0.2406, 0.12667871900826447, 0.11242, 0.0937809039626715, 0.03576327753704426, 0.032987]\n"
     ]
    }
   ],
   "source": [
    "with open('articles.json') as f:\n",
    "   data = json.load(f)\n",
    "\n",
    "# Cuantificar palabras tokenizadas\n",
    "sts_word = []\n",
    "# cuantificar palabras vocabulario\n",
    "sts_vocab = []\n",
    "# Cuantificar porcentajes\n",
    "sts = []\n",
    "\n",
    "\n",
    "#Setear el inicio\n",
    "snow_stemmer = SnowballStemmer(language='spanish')\n",
    "list_limit = [100, 300, 1000, 4500, 10000, 69696, 100000, 143590, 853641, 1000000]\n",
    "\n",
    "\n",
    "iteration_vocab(list_limit, snow_stemmer, sts_word, sts_vocab)\n",
    "\n",
    "\n",
    "for i in range(len(sts_word)):\n",
    "    sts.append(sts_vocab[i]/sts_word[i])\n",
    "\n",
    "print('')\n",
    "print(sts_word)\n",
    "print(sts_vocab)\n",
    "# print(sts)"
   ]
  },
  {
   "cell_type": "code",
   "execution_count": 6,
   "id": "6ba673f8",
   "metadata": {},
   "outputs": [],
   "source": [
    "import matplotlib.pyplot as plt\n",
    "import seaborn as sns\n",
    "\n",
    "sns.set_theme()"
   ]
  },
  {
   "cell_type": "code",
   "execution_count": 14,
   "id": "2beb527b",
   "metadata": {},
   "outputs": [
    {
     "data": {
      "image/png": "[encoded data removed]",
      "text/plain": [
       "<Figure size 576x432 with 1 Axes>"
      ]
     },
     "metadata": {
      "needs_background": "light"
     },
     "output_type": "display_data"
    },
    {
     "data": {
      "text/plain": [
       "<Figure size 432x288 with 0 Axes>"
      ]
     },
     "metadata": {},
     "output_type": "display_data"
    }
   ],
   "source": [
    "_ = plt.figure(figsize=(8, 6))\n",
    "\n",
    "_ = plt.scatter(sts_word, sts_vocab)\n",
    "_ = plt.xlabel(\"Tokens\")\n",
    "_ = plt.ylabel(\"Vocabulario\")\n",
    "\n",
    "plt.show()\n",
    "plt.clf()"
   ]
  }
 ],
 "metadata": {
  "kernelspec": {
   "display_name": "Python 3 (ipykernel)",
   "language": "python",
   "name": "python3"
  },
  "language_info": {
   "codemirror_mode": {
    "name": "ipython",
    "version": 3
   },
   "file_extension": ".py",
   "mimetype": "text/x-python",
   "name": "python",
   "nbconvert_exporter": "python",
   "pygments_lexer": "ipython3",
   "version": "3.10.4"
  }
 },
 "nbformat": 4,
 "nbformat_minor": 5
}
